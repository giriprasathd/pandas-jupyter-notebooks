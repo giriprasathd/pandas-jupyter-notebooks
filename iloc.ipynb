{
 "cells": [
  {
   "cell_type": "code",
   "execution_count": 1,
   "id": "319d0997",
   "metadata": {},
   "outputs": [
    {
     "name": "stdout",
     "output_type": "stream",
     "text": [
      "    Courses    Fee Duration  Discount\n",
      "r1    Spark  20000   30days      1000\n",
      "r2  PySpark  25000   40days      2300\n",
      "r3   Hadoop  26000   35days      1500\n",
      "r4   Python  22000   40days      1200\n",
      "r5   pandas  24000      NaN      2500\n",
      "r6   Oracle  21000     None      2100\n",
      "r7     Java  22000   55days      2000\n"
     ]
    }
   ],
   "source": [
    "# pandas select rows\n",
    "#Use pandas.DataFrame.iloc[] to Select Rows by Integer Index\n",
    "import pandas as pd\n",
    "import numpy as np\n",
    "technologies = {\n",
    "    'Courses':[\"Spark\",\"PySpark\",\"Hadoop\",\"Python\",\"pandas\",\"Oracle\",\"Java\"],\n",
    "    'Fee' :[20000,25000,26000,22000,24000,21000,22000],\n",
    "    'Duration':['30days','40days','35days','40days',np.nan,None,'55days'],\n",
    "    'Discount':[1000,2300,1500,1200,2500,2100,2000]\n",
    "               }\n",
    "index_labels=['r1','r2','r3','r4','r5','r6','r7']\n",
    "df = pd.DataFrame(technologies,index=index_labels)\n",
    "print(df)\n",
    "\n"
   ]
  },
  {
   "cell_type": "code",
   "execution_count": 2,
   "id": "fe594782",
   "metadata": {},
   "outputs": [
    {
     "name": "stdout",
     "output_type": "stream",
     "text": [
      "Courses     Hadoop\n",
      "Fee          26000\n",
      "Duration    35days\n",
      "Discount      1500\n",
      "Name: r3, dtype: object\n"
     ]
    }
   ],
   "source": [
    "# Select Row by Integer Index\n",
    "print(df.iloc[2])\n",
    "\n"
   ]
  },
  {
   "cell_type": "code",
   "execution_count": 3,
   "id": "f7e71ecd",
   "metadata": {},
   "outputs": [
    {
     "name": "stdout",
     "output_type": "stream",
     "text": [
      "   Courses    Fee Duration  Discount\n",
      "r3  Hadoop  26000   35days      1500\n",
      "r4  Python  22000   40days      1200\n"
     ]
    }
   ],
   "source": [
    "#select multiple rows by index list\n",
    "print(df.iloc[[2,3]])"
   ]
  },
  {
   "cell_type": "code",
   "execution_count": 4,
   "id": "7821af44",
   "metadata": {},
   "outputs": [
    {
     "name": "stdout",
     "output_type": "stream",
     "text": [
      "    Courses    Fee Duration  Discount\n",
      "r2  PySpark  25000   40days      2300\n",
      "r3   Hadoop  26000   35days      1500\n",
      "r4   Python  22000   40days      1200\n",
      "r5   pandas  24000      NaN      2500\n"
     ]
    }
   ],
   "source": [
    "# Select Rows by Integer Index Range\n",
    "print(df.iloc[1:5])\n"
   ]
  },
  {
   "cell_type": "code",
   "execution_count": 5,
   "id": "a1dfcf71",
   "metadata": {},
   "outputs": [
    {
     "name": "stdout",
     "output_type": "stream",
     "text": [
      "   Courses    Fee Duration  Discount\n",
      "r1   Spark  20000   30days      1000\n"
     ]
    }
   ],
   "source": [
    "# Select First Row by Index\n",
    "print(df.iloc[:1])"
   ]
  },
  {
   "cell_type": "code",
   "execution_count": 6,
   "id": "718b59ac",
   "metadata": {},
   "outputs": [
    {
     "name": "stdout",
     "output_type": "stream",
     "text": [
      "    Courses    Fee Duration  Discount\n",
      "r1    Spark  20000   30days      1000\n",
      "r2  PySpark  25000   40days      2300\n",
      "r3   Hadoop  26000   35days      1500\n"
     ]
    }
   ],
   "source": [
    "# Select First 3 Rows\n",
    "print(df.iloc[:3])"
   ]
  },
  {
   "cell_type": "code",
   "execution_count": 7,
   "id": "c857bc5a",
   "metadata": {},
   "outputs": [
    {
     "name": "stdout",
     "output_type": "stream",
     "text": [
      "   Courses    Fee Duration  Discount\n",
      "r7    Java  22000   55days      2000\n"
     ]
    }
   ],
   "source": [
    "# Select Last Row by Index\n",
    "print(df.iloc[-1:])"
   ]
  },
  {
   "cell_type": "code",
   "execution_count": 8,
   "id": "febb2069",
   "metadata": {},
   "outputs": [
    {
     "name": "stdout",
     "output_type": "stream",
     "text": [
      "   Courses    Fee Duration  Discount\n",
      "r5  pandas  24000      NaN      2500\n",
      "r6  Oracle  21000     None      2100\n",
      "r7    Java  22000   55days      2000\n"
     ]
    }
   ],
   "source": [
    "# Select Last 3 Row\n",
    "print(df.iloc[-3:])"
   ]
  },
  {
   "cell_type": "code",
   "execution_count": 9,
   "id": "7c975f95",
   "metadata": {},
   "outputs": [
    {
     "name": "stdout",
     "output_type": "stream",
     "text": [
      "   Courses    Fee Duration  Discount\n",
      "r1   Spark  20000   30days      1000\n",
      "r3  Hadoop  26000   35days      1500\n",
      "r5  pandas  24000      NaN      2500\n",
      "r7    Java  22000   55days      2000\n"
     ]
    }
   ],
   "source": [
    "# Selects alternate rows\n",
    "print(df.iloc[::2])"
   ]
  },
  {
   "cell_type": "code",
   "execution_count": null,
   "id": "4af45429",
   "metadata": {},
   "outputs": [],
   "source": []
  }
 ],
 "metadata": {
  "kernelspec": {
   "display_name": "Python 3 (ipykernel)",
   "language": "python",
   "name": "python3"
  },
  "language_info": {
   "codemirror_mode": {
    "name": "ipython",
    "version": 3
   },
   "file_extension": ".py",
   "mimetype": "text/x-python",
   "name": "python",
   "nbconvert_exporter": "python",
   "pygments_lexer": "ipython3",
   "version": "3.9.7"
  }
 },
 "nbformat": 4,
 "nbformat_minor": 5
}
