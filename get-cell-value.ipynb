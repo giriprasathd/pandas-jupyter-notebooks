{
 "cells": [
  {
   "cell_type": "markdown",
   "id": "0399f02d",
   "metadata": {},
   "source": [
    "For detailed explanation of this examples refer to [pandas-get-cell-value](https://sparkbyexamples.com/pandas/pandas-get-cell-value-with-examples)"
   ]
  },
  {
   "cell_type": "markdown",
   "id": "91af0ad7",
   "metadata": {},
   "source": [
    "# Pandas – How to Get a Cell Value From DataFrame?"
   ]
  },
  {
   "cell_type": "code",
   "execution_count": 1,
   "id": "fcaa2109",
   "metadata": {},
   "outputs": [
    {
     "data": {
      "text/html": [
       "<div>\n",
       "<style scoped>\n",
       "    .dataframe tbody tr th:only-of-type {\n",
       "        vertical-align: middle;\n",
       "    }\n",
       "\n",
       "    .dataframe tbody tr th {\n",
       "        vertical-align: top;\n",
       "    }\n",
       "\n",
       "    .dataframe thead th {\n",
       "        text-align: right;\n",
       "    }\n",
       "</style>\n",
       "<table border=\"1\" class=\"dataframe\">\n",
       "  <thead>\n",
       "    <tr style=\"text-align: right;\">\n",
       "      <th></th>\n",
       "      <th>Courses</th>\n",
       "      <th>Fee</th>\n",
       "      <th>Duration</th>\n",
       "      <th>Discount</th>\n",
       "    </tr>\n",
       "  </thead>\n",
       "  <tbody>\n",
       "    <tr>\n",
       "      <th>0</th>\n",
       "      <td>Spark</td>\n",
       "      <td>24000</td>\n",
       "      <td>30day</td>\n",
       "      <td>1000</td>\n",
       "    </tr>\n",
       "    <tr>\n",
       "      <th>1</th>\n",
       "      <td>PySpark</td>\n",
       "      <td>25000</td>\n",
       "      <td>50days</td>\n",
       "      <td>2300</td>\n",
       "    </tr>\n",
       "    <tr>\n",
       "      <th>2</th>\n",
       "      <td>Hadoop</td>\n",
       "      <td>25000</td>\n",
       "      <td>55days</td>\n",
       "      <td>1000</td>\n",
       "    </tr>\n",
       "    <tr>\n",
       "      <th>3</th>\n",
       "      <td>Python</td>\n",
       "      <td>24000</td>\n",
       "      <td>40days</td>\n",
       "      <td>1200</td>\n",
       "    </tr>\n",
       "    <tr>\n",
       "      <th>4</th>\n",
       "      <td>pandas</td>\n",
       "      <td>24000</td>\n",
       "      <td>60days</td>\n",
       "      <td>2500</td>\n",
       "    </tr>\n",
       "  </tbody>\n",
       "</table>\n",
       "</div>"
      ],
      "text/plain": [
       "   Courses    Fee Duration  Discount\n",
       "0    Spark  24000    30day      1000\n",
       "1  PySpark  25000   50days      2300\n",
       "2   Hadoop  25000   55days      1000\n",
       "3   Python  24000   40days      1200\n",
       "4   pandas  24000   60days      2500"
      ]
     },
     "execution_count": 1,
     "metadata": {},
     "output_type": "execute_result"
    }
   ],
   "source": [
    "import pandas as pd\n",
    "technologies = {\n",
    "     'Courses':[\"Spark\",\"PySpark\",\"Hadoop\",\"Python\",\"pandas\"],\n",
    "     'Fee' :[24000,25000,25000,24000,24000],\n",
    "     'Duration':['30day','50days','55days', '40days','60days'],\n",
    "     'Discount':[1000,2300,1000,1200,2500]\n",
    "          }\n",
    "df = pd.DataFrame(technologies)\n",
    "df\n"
   ]
  },
  {
   "cell_type": "code",
   "execution_count": 2,
   "id": "d4d8c9bf",
   "metadata": {},
   "outputs": [
    {
     "data": {
      "text/plain": [
       "'40days'"
      ]
     },
     "execution_count": 2,
     "metadata": {},
     "output_type": "execute_result"
    }
   ],
   "source": [
    "# Using loc[]. Get cell value by name & index\n",
    "df2=df.loc[3]['Duration']\n",
    "df2\n"
   ]
  },
  {
   "cell_type": "code",
   "execution_count": 3,
   "id": "4344151f",
   "metadata": {},
   "outputs": [
    {
     "data": {
      "text/plain": [
       "'40days'"
      ]
     },
     "execution_count": 3,
     "metadata": {},
     "output_type": "execute_result"
    }
   ],
   "source": [
    "df2=df.loc[3,'Duration']\n",
    "df2\n"
   ]
  },
  {
   "cell_type": "code",
   "execution_count": 4,
   "id": "a0b44317",
   "metadata": {},
   "outputs": [
    {
     "data": {
      "text/plain": [
       "'40days'"
      ]
     },
     "execution_count": 4,
     "metadata": {},
     "output_type": "execute_result"
    }
   ],
   "source": [
    "df2=df.loc[3][2]\n",
    "df2"
   ]
  },
  {
   "cell_type": "code",
   "execution_count": 5,
   "id": "fd39b880",
   "metadata": {},
   "outputs": [
    {
     "data": {
      "text/plain": [
       "'40days'"
      ]
     },
     "execution_count": 5,
     "metadata": {},
     "output_type": "execute_result"
    }
   ],
   "source": [
    "# Using iloc[]. Get cell value by index & name\n",
    "df2=df.iloc[3]['Duration']\n",
    "df2"
   ]
  },
  {
   "cell_type": "code",
   "execution_count": 6,
   "id": "0a0f27dc",
   "metadata": {},
   "outputs": [
    {
     "data": {
      "text/plain": [
       "'40days'"
      ]
     },
     "execution_count": 6,
     "metadata": {},
     "output_type": "execute_result"
    }
   ],
   "source": [
    "df2=df.iloc[3][2]\n",
    "df2\n"
   ]
  },
  {
   "cell_type": "code",
   "execution_count": 7,
   "id": "5efa838b",
   "metadata": {},
   "outputs": [
    {
     "data": {
      "text/plain": [
       "'40days'"
      ]
     },
     "execution_count": 7,
     "metadata": {},
     "output_type": "execute_result"
    }
   ],
   "source": [
    "# Using iloc[]. Get cell value by index & name\n",
    "df2=df.iloc[3,2]\n",
    "df2"
   ]
  },
  {
   "cell_type": "code",
   "execution_count": 8,
   "id": "3a6c3a7a",
   "metadata": {},
   "outputs": [
    {
     "data": {
      "text/plain": [
       "'40days'"
      ]
     },
     "execution_count": 8,
     "metadata": {},
     "output_type": "execute_result"
    }
   ],
   "source": [
    "# Using DataFrame.at[]\n",
    "df2=df.at[3,'Duration']\n",
    "df2\n"
   ]
  },
  {
   "cell_type": "code",
   "execution_count": 9,
   "id": "51439c02",
   "metadata": {},
   "outputs": [
    {
     "data": {
      "text/plain": [
       "'40days'"
      ]
     },
     "execution_count": 9,
     "metadata": {},
     "output_type": "execute_result"
    }
   ],
   "source": [
    "df2=df.at[df.index[3],'Duration']\n",
    "df2"
   ]
  },
  {
   "cell_type": "code",
   "execution_count": 10,
   "id": "5828f47e",
   "metadata": {},
   "outputs": [
    {
     "data": {
      "text/plain": [
       "'40days'"
      ]
     },
     "execution_count": 10,
     "metadata": {},
     "output_type": "execute_result"
    }
   ],
   "source": [
    "# Using DataFrame.iat[]\n",
    "df2=df.iat[3,2]\n",
    "df2"
   ]
  },
  {
   "cell_type": "code",
   "execution_count": 11,
   "id": "71a534a9",
   "metadata": {},
   "outputs": [
    {
     "data": {
      "text/plain": [
       "'40days'"
      ]
     },
     "execution_count": 11,
     "metadata": {},
     "output_type": "execute_result"
    }
   ],
   "source": [
    "#Get a cell value\n",
    "df2=df[\"Duration\"].values[3]\n",
    "df2"
   ]
  },
  {
   "cell_type": "code",
   "execution_count": 12,
   "id": "1cf37a61",
   "metadata": {},
   "outputs": [
    {
     "data": {
      "text/plain": [
       "'60days'"
      ]
     },
     "execution_count": 12,
     "metadata": {},
     "output_type": "execute_result"
    }
   ],
   "source": [
    "# Get cell value from last row\n",
    "df2=df.iloc[-1,2]\n",
    "df2\n",
    "\n",
    "            \n"
   ]
  },
  {
   "cell_type": "code",
   "execution_count": 13,
   "id": "58d4bd07",
   "metadata": {},
   "outputs": [
    {
     "data": {
      "text/plain": [
       "'60days'"
      ]
     },
     "execution_count": 13,
     "metadata": {},
     "output_type": "execute_result"
    }
   ],
   "source": [
    "df2=df.iloc[-1]['Duration']        \n",
    "df2\n",
    "\n",
    "                \n"
   ]
  },
  {
   "cell_type": "code",
   "execution_count": 14,
   "id": "f82fec9f",
   "metadata": {},
   "outputs": [
    {
     "data": {
      "text/plain": [
       "'60days'"
      ]
     },
     "execution_count": 14,
     "metadata": {},
     "output_type": "execute_result"
    }
   ],
   "source": [
    "df2=df.at[df.index[-1],'Duration']\n",
    "df2                \n"
   ]
  },
  {
   "cell_type": "code",
   "execution_count": null,
   "id": "461d19ce",
   "metadata": {},
   "outputs": [],
   "source": []
  }
 ],
 "metadata": {
  "kernelspec": {
   "display_name": "Python 3 (ipykernel)",
   "language": "python",
   "name": "python3"
  },
  "language_info": {
   "codemirror_mode": {
    "name": "ipython",
    "version": 3
   },
   "file_extension": ".py",
   "mimetype": "text/x-python",
   "name": "python",
   "nbconvert_exporter": "python",
   "pygments_lexer": "ipython3",
   "version": "3.9.7"
  }
 },
 "nbformat": 4,
 "nbformat_minor": 5
}
