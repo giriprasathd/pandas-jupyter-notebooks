{
 "cells": [
  {
   "cell_type": "markdown",
   "id": "0bd41d17",
   "metadata": {},
   "source": [
    "For detailed explanation of this examples refer to [pandas-get-column-names](https://sparkbyexamples.com/pandas/panda-get-column-names-with-example)"
   ]
  },
  {
   "cell_type": "markdown",
   "id": "b69d108b",
   "metadata": {},
   "source": [
    "# Pandas Get Column Names from DataFrame"
   ]
  },
  {
   "cell_type": "code",
   "execution_count": 1,
   "id": "60f80611",
   "metadata": {},
   "outputs": [
    {
     "data": {
      "text/html": [
       "<div>\n",
       "<style scoped>\n",
       "    .dataframe tbody tr th:only-of-type {\n",
       "        vertical-align: middle;\n",
       "    }\n",
       "\n",
       "    .dataframe tbody tr th {\n",
       "        vertical-align: top;\n",
       "    }\n",
       "\n",
       "    .dataframe thead th {\n",
       "        text-align: right;\n",
       "    }\n",
       "</style>\n",
       "<table border=\"1\" class=\"dataframe\">\n",
       "  <thead>\n",
       "    <tr style=\"text-align: right;\">\n",
       "      <th></th>\n",
       "      <th>Courses</th>\n",
       "      <th>Fee</th>\n",
       "      <th>Duration</th>\n",
       "      <th>Discount</th>\n",
       "    </tr>\n",
       "  </thead>\n",
       "  <tbody>\n",
       "    <tr>\n",
       "      <th>0</th>\n",
       "      <td>Spark</td>\n",
       "      <td>22000</td>\n",
       "      <td>30days</td>\n",
       "      <td>1000</td>\n",
       "    </tr>\n",
       "    <tr>\n",
       "      <th>1</th>\n",
       "      <td>PySpark</td>\n",
       "      <td>25000</td>\n",
       "      <td>50days</td>\n",
       "      <td>2300</td>\n",
       "    </tr>\n",
       "    <tr>\n",
       "      <th>2</th>\n",
       "      <td>Hadoop</td>\n",
       "      <td>23000</td>\n",
       "      <td>30days</td>\n",
       "      <td>1000</td>\n",
       "    </tr>\n",
       "    <tr>\n",
       "      <th>3</th>\n",
       "      <td>Python</td>\n",
       "      <td>24000</td>\n",
       "      <td>None</td>\n",
       "      <td>1200</td>\n",
       "    </tr>\n",
       "    <tr>\n",
       "      <th>4</th>\n",
       "      <td>Pandas</td>\n",
       "      <td>26000</td>\n",
       "      <td>NaN</td>\n",
       "      <td>2500</td>\n",
       "    </tr>\n",
       "  </tbody>\n",
       "</table>\n",
       "</div>"
      ],
      "text/plain": [
       "   Courses    Fee Duration  Discount\n",
       "0    Spark  22000   30days      1000\n",
       "1  PySpark  25000   50days      2300\n",
       "2   Hadoop  23000   30days      1000\n",
       "3   Python  24000     None      1200\n",
       "4   Pandas  26000      NaN      2500"
      ]
     },
     "execution_count": 1,
     "metadata": {},
     "output_type": "execute_result"
    }
   ],
   "source": [
    "#create DataFrame\n",
    "import pandas as pd\n",
    "import numpy as np\n",
    "\n",
    "technologies= {\n",
    "    'Courses':[\"Spark\",\"PySpark\",\"Hadoop\",\"Python\",\"Pandas\"],\n",
    "    'Fee' :[22000,25000,23000,24000,26000],\n",
    "    'Duration':['30days','50days','30days', None,np.nan],\n",
    "    'Discount':[1000,2300,1000,1200,2500]\n",
    "          }\n",
    "df = pd.DataFrame(technologies)\n",
    "df\n"
   ]
  },
  {
   "cell_type": "code",
   "execution_count": 2,
   "id": "0ed4aa6c",
   "metadata": {},
   "outputs": [
    {
     "name": "stdout",
     "output_type": "stream",
     "text": [
      "The Column Header : ['Courses', 'Fee', 'Duration', 'Discount']\n"
     ]
    }
   ],
   "source": [
    "# Get the list of all column names from headers\n",
    "column_headers = list(df.columns.values)\n",
    "print(\"The Column Header :\", column_headers)\n"
   ]
  },
  {
   "cell_type": "code",
   "execution_count": 3,
   "id": "206e2c12",
   "metadata": {},
   "outputs": [
    {
     "name": "stdout",
     "output_type": "stream",
     "text": [
      "The Column Header : ['Courses', 'Fee', 'Duration', 'Discount']\n"
     ]
    }
   ],
   "source": [
    "# Get the list of all column names from headers\n",
    "column_headers = df.columns.values.tolist()\n",
    "print(\"The Column Header :\", column_headers)\n"
   ]
  },
  {
   "cell_type": "code",
   "execution_count": 5,
   "id": "0089821e",
   "metadata": {},
   "outputs": [
    {
     "name": "stdout",
     "output_type": "stream",
     "text": [
      "The Column Header: ['Courses', 'Fee', 'Duration', 'Discount']\n"
     ]
    }
   ],
   "source": [
    "#Using list(df) to get the column headers as a list\n",
    "column_headers = list(df.columns)\n",
    "print(\"The Column Header:\",column_headers)\n",
    "\n",
    "\n"
   ]
  },
  {
   "cell_type": "code",
   "execution_count": 7,
   "id": "4fd37505",
   "metadata": {},
   "outputs": [
    {
     "name": "stdout",
     "output_type": "stream",
     "text": [
      "The Column Header: ['Courses', 'Fee', 'Duration', 'Discount']\n"
     ]
    }
   ],
   "source": [
    "#Using list(df) to get the list of all Column Names\n",
    "column_headers = list(df)\n",
    "print(\"The Column Header:\",column_headers)\n"
   ]
  },
  {
   "cell_type": "code",
   "execution_count": 9,
   "id": "dc17c2cb",
   "metadata": {},
   "outputs": [
    {
     "data": {
      "text/plain": [
       "['Courses', 'Discount', 'Duration', 'Fee']"
      ]
     },
     "execution_count": 9,
     "metadata": {},
     "output_type": "execute_result"
    }
   ],
   "source": [
    "# Dataframe show all columns sorted list\n",
    "col_headers=sorted(df)\n",
    "col_headers\n"
   ]
  },
  {
   "cell_type": "code",
   "execution_count": 10,
   "id": "0cb8e0e3",
   "metadata": {},
   "outputs": [
    {
     "name": "stdout",
     "output_type": "stream",
     "text": [
      "Courses\n",
      "Fee\n",
      "Duration\n",
      "Discount\n"
     ]
    }
   ],
   "source": [
    "# Get all Column Header Labels as List\n",
    "for column_headers in df.columns: \n",
    "    print(column_headers)\n"
   ]
  },
  {
   "cell_type": "code",
   "execution_count": 11,
   "id": "0cab59c9",
   "metadata": {},
   "outputs": [
    {
     "name": "stdout",
     "output_type": "stream",
     "text": [
      "The Column Header : ['Courses', 'Fee', 'Duration', 'Discount']\n"
     ]
    }
   ],
   "source": [
    "# Get Column Headers Using the keys() Method\n",
    "column_headers = df.keys().values.tolist()\n",
    "print(\"The Column Header :\", column_headers)\n"
   ]
  },
  {
   "cell_type": "code",
   "execution_count": 12,
   "id": "876b07e6",
   "metadata": {},
   "outputs": [
    {
     "data": {
      "text/plain": [
       "['Fee', 'Discount']"
      ]
     },
     "execution_count": 12,
     "metadata": {},
     "output_type": "execute_result"
    }
   ],
   "source": [
    "# Get all numeric columns\n",
    "numeric_columns = df._get_numeric_data().columns.values.tolist()\n",
    "numeric_columns\n"
   ]
  },
  {
   "cell_type": "code",
   "execution_count": 13,
   "id": "74ab48b2",
   "metadata": {},
   "outputs": [
    {
     "data": {
      "text/plain": [
       "['Fee', 'Discount']"
      ]
     },
     "execution_count": 13,
     "metadata": {},
     "output_type": "execute_result"
    }
   ],
   "source": [
    "# Simple Pandas Numeric Columns Code\n",
    "numeric_columns=df.dtypes[df.dtypes == \"int64\"].index.values.tolist()\n",
    "numeric_columns\n"
   ]
  },
  {
   "cell_type": "code",
   "execution_count": null,
   "id": "94e88d96",
   "metadata": {},
   "outputs": [],
   "source": []
  }
 ],
 "metadata": {
  "kernelspec": {
   "display_name": "Python 3 (ipykernel)",
   "language": "python",
   "name": "python3"
  },
  "language_info": {
   "codemirror_mode": {
    "name": "ipython",
    "version": 3
   },
   "file_extension": ".py",
   "mimetype": "text/x-python",
   "name": "python",
   "nbconvert_exporter": "python",
   "pygments_lexer": "ipython3",
   "version": "3.9.7"
  }
 },
 "nbformat": 4,
 "nbformat_minor": 5
}
