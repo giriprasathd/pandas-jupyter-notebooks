{
 "cells": [
  {
   "cell_type": "markdown",
   "id": "493eaa2b",
   "metadata": {},
   "source": [
    "For detailed explanation of this examples refer to [pandas-cast column type](https://sparkbyexamples.com/pandas/different-ways-to-change-data-type-in-pandas)"
   ]
  },
  {
   "cell_type": "markdown",
   "id": "6dab6fc3",
   "metadata": {},
   "source": [
    "# Different Ways to Change Data Type in pandas"
   ]
  },
  {
   "cell_type": "code",
   "execution_count": 1,
   "id": "b2e9ca80",
   "metadata": {},
   "outputs": [
    {
     "data": {
      "text/plain": [
       "Courses       object\n",
       "Fee            int64\n",
       "Duration      object\n",
       "Discount     float64\n",
       "dtype: object"
      ]
     },
     "execution_count": 1,
     "metadata": {},
     "output_type": "execute_result"
    }
   ],
   "source": [
    "import pandas as pd\n",
    "technologies = {\n",
    "    'Courses':[\"Spark\",\"PySpark\",\"Hadoop\",\"Python\",\"pandas\",\"Oracle\",\"Java\"],\n",
    "    'Fee' :[20000,25000,26000,22000,24000,21000,22000],\n",
    "    'Duration ':['30day','40days','35days', '40days','60days','50days','55days'],\n",
    "    'Discount':[11.8,23.7,13.4,15.7,12.5,25.4,18.4]\n",
    "    }\n",
    "df = pd.DataFrame(technologies)\n",
    "df.dtypes\n"
   ]
  },
  {
   "cell_type": "code",
   "execution_count": 2,
   "id": "4f53d2ef",
   "metadata": {},
   "outputs": [
    {
     "data": {
      "text/plain": [
       "Courses       string\n",
       "Fee            Int64\n",
       "Duration      string\n",
       "Discount     Float64\n",
       "dtype: object"
      ]
     },
     "execution_count": 2,
     "metadata": {},
     "output_type": "execute_result"
    }
   ],
   "source": [
    "#DataFrame.convert_dtypes() to Convert Data Type in Pandas\n",
    "# Convert all types to best possible types\n",
    "df2=df.convert_dtypes()\n",
    "df2.dtypes\n"
   ]
  },
  {
   "cell_type": "code",
   "execution_count": 3,
   "id": "24587dc9",
   "metadata": {},
   "outputs": [
    {
     "data": {
      "text/plain": [
       "Courses      object\n",
       "Fee          object\n",
       "Duration     object\n",
       "Discount     object\n",
       "dtype: object"
      ]
     },
     "execution_count": 3,
     "metadata": {},
     "output_type": "execute_result"
    }
   ],
   "source": [
    "#Change All Columns to Same type in Pandas\n",
    "# Change All Columns to Same type\n",
    "df = df.astype(str)\n",
    "df.dtypes\n",
    "\n"
   ]
  },
  {
   "cell_type": "code",
   "execution_count": 4,
   "id": "685e6827",
   "metadata": {},
   "outputs": [
    {
     "data": {
      "text/plain": [
       "Courses       object\n",
       "Fee            int32\n",
       "Duration      object\n",
       "Discount     float64\n",
       "dtype: object"
      ]
     },
     "execution_count": 4,
     "metadata": {},
     "output_type": "execute_result"
    }
   ],
   "source": [
    "# Change Type For One or Multiple Columns\n",
    "df = df.astype({\"Fee\": int, \"Discount\": float})\n",
    "df.dtypes\n"
   ]
  },
  {
   "cell_type": "code",
   "execution_count": 6,
   "id": "086a9a42",
   "metadata": {},
   "outputs": [
    {
     "data": {
      "text/plain": [
       "Fee         float64\n",
       "Discount    float64\n",
       "dtype: object"
      ]
     },
     "execution_count": 6,
     "metadata": {},
     "output_type": "execute_result"
    }
   ],
   "source": [
    "# Convert Data Type for All Columns in a List\n",
    "df = pd.DataFrame(technologies)\n",
    "cols = ['Fee', 'Discount']\n",
    "df[cols] = df[cols].astype('float')\n",
    "df[cols].dtypes\n"
   ]
  },
  {
   "cell_type": "code",
   "execution_count": 7,
   "id": "fb228433",
   "metadata": {},
   "outputs": [
    {
     "data": {
      "text/plain": [
       "dtype('float64')"
      ]
     },
     "execution_count": 7,
     "metadata": {},
     "output_type": "execute_result"
    }
   ],
   "source": [
    "# By using a loop\n",
    "for col in ['Fee', 'Discount']:\n",
    "    df[col] = df[col].astype('float')\n",
    "df[col].dtypes\n"
   ]
  },
  {
   "cell_type": "code",
   "execution_count": 8,
   "id": "10d148ac",
   "metadata": {},
   "outputs": [
    {
     "data": {
      "text/plain": [
       "Courses       object\n",
       "Fee          float64\n",
       "Duration      object\n",
       "Discount     float64\n",
       "dtype: object"
      ]
     },
     "execution_count": 8,
     "metadata": {},
     "output_type": "execute_result"
    }
   ],
   "source": [
    "#By using apply() & astype() together\n",
    "df[['Fee', 'Discount']].apply(lambda x: x.astype('float'))\n",
    "df.dtypes"
   ]
  },
  {
   "cell_type": "code",
   "execution_count": 9,
   "id": "a6695f92",
   "metadata": {},
   "outputs": [
    {
     "data": {
      "text/plain": [
       "Courses       object\n",
       "Fee          float64\n",
       "Duration      object\n",
       "Discount     float64\n",
       "dtype: object"
      ]
     },
     "execution_count": 9,
     "metadata": {},
     "output_type": "execute_result"
    }
   ],
   "source": [
    "#Ignores error\n",
    "df = df.astype({\"Courses\": int},errors='ignore')\n",
    "df.dtypes\n"
   ]
  },
  {
   "cell_type": "code",
   "execution_count": null,
   "id": "0a3f3e65",
   "metadata": {},
   "outputs": [],
   "source": [
    "# DataFrame.infer_objects() to Change Data Type in Pandas\n",
    "# Converts object types to possible types\n",
    "df = pd.DataFrame(technologies)\n",
    "df = df.infer_objects()\n",
    "df.dtypes\n"
   ]
  },
  {
   "cell_type": "code",
   "execution_count": 12,
   "id": "977371ad",
   "metadata": {},
   "outputs": [
    {
     "data": {
      "text/plain": [
       "Courses       object\n",
       "Fee            int64\n",
       "Duration      object\n",
       "Discount     float64\n",
       "dtype: object"
      ]
     },
     "execution_count": 12,
     "metadata": {},
     "output_type": "execute_result"
    }
   ],
   "source": [
    "# Converts fee column to numeric type\n",
    "df['Fee'] = pd.to_numeric(df['Fee'])\n",
    "df.dtypes\n"
   ]
  },
  {
   "cell_type": "code",
   "execution_count": 13,
   "id": "8a2b864d",
   "metadata": {},
   "outputs": [
    {
     "data": {
      "text/plain": [
       "Courses       object\n",
       "Fee            int64\n",
       "Duration      object\n",
       "Discount     float64\n",
       "dtype: object"
      ]
     },
     "execution_count": 13,
     "metadata": {},
     "output_type": "execute_result"
    }
   ],
   "source": [
    "# Convert Fee and Discount to numeric types\n",
    "df = pd.DataFrame(technologies)\n",
    "df[['Fee', 'Discount']] =df [['Fee', 'Discount']].apply(pd.to_numeric)\n",
    "df.dtypes\n"
   ]
  },
  {
   "cell_type": "code",
   "execution_count": null,
   "id": "8d3002d1",
   "metadata": {},
   "outputs": [],
   "source": []
  }
 ],
 "metadata": {
  "kernelspec": {
   "display_name": "Python 3 (ipykernel)",
   "language": "python",
   "name": "python3"
  },
  "language_info": {
   "codemirror_mode": {
    "name": "ipython",
    "version": 3
   },
   "file_extension": ".py",
   "mimetype": "text/x-python",
   "name": "python",
   "nbconvert_exporter": "python",
   "pygments_lexer": "ipython3",
   "version": "3.9.7"
  }
 },
 "nbformat": 4,
 "nbformat_minor": 5
}
